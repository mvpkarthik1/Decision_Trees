{
 "cells": [
  {
   "cell_type": "code",
   "execution_count": 1,
   "metadata": {},
   "outputs": [],
   "source": [
    "import pandas as pd\n",
    "import matplotlib.pyplot as plt\n",
    "from sklearn import datasets  \n",
    "import numpy as np\n",
    "from sklearn.model_selection import train_test_split\n",
    "from sklearn.tree import  DecisionTreeClassifier\n",
    "from sklearn import tree\n",
    "from sklearn.metrics import classification_report\n",
    "from sklearn import preprocessing"
   ]
  },
  {
   "cell_type": "code",
   "execution_count": 2,
   "metadata": {},
   "outputs": [],
   "source": [
    "# import some data to play with\n",
    "data = pd.read_csv('Fraud_check.csv',index_col=0)\n",
    "data = data.reset_index()"
   ]
  },
  {
   "cell_type": "code",
   "execution_count": 3,
   "metadata": {},
   "outputs": [
    {
     "data": {
      "text/html": [
       "<div>\n",
       "<style scoped>\n",
       "    .dataframe tbody tr th:only-of-type {\n",
       "        vertical-align: middle;\n",
       "    }\n",
       "\n",
       "    .dataframe tbody tr th {\n",
       "        vertical-align: top;\n",
       "    }\n",
       "\n",
       "    .dataframe thead th {\n",
       "        text-align: right;\n",
       "    }\n",
       "</style>\n",
       "<table border=\"1\" class=\"dataframe\">\n",
       "  <thead>\n",
       "    <tr style=\"text-align: right;\">\n",
       "      <th></th>\n",
       "      <th>Undergrad</th>\n",
       "      <th>Marital.Status</th>\n",
       "      <th>Taxable.Income</th>\n",
       "      <th>City.Population</th>\n",
       "      <th>Work.Experience</th>\n",
       "      <th>Urban</th>\n",
       "    </tr>\n",
       "  </thead>\n",
       "  <tbody>\n",
       "    <tr>\n",
       "      <th>0</th>\n",
       "      <td>NO</td>\n",
       "      <td>Single</td>\n",
       "      <td>68833</td>\n",
       "      <td>50047</td>\n",
       "      <td>10</td>\n",
       "      <td>YES</td>\n",
       "    </tr>\n",
       "    <tr>\n",
       "      <th>1</th>\n",
       "      <td>YES</td>\n",
       "      <td>Divorced</td>\n",
       "      <td>33700</td>\n",
       "      <td>134075</td>\n",
       "      <td>18</td>\n",
       "      <td>YES</td>\n",
       "    </tr>\n",
       "    <tr>\n",
       "      <th>2</th>\n",
       "      <td>NO</td>\n",
       "      <td>Married</td>\n",
       "      <td>36925</td>\n",
       "      <td>160205</td>\n",
       "      <td>30</td>\n",
       "      <td>YES</td>\n",
       "    </tr>\n",
       "    <tr>\n",
       "      <th>3</th>\n",
       "      <td>YES</td>\n",
       "      <td>Single</td>\n",
       "      <td>50190</td>\n",
       "      <td>193264</td>\n",
       "      <td>15</td>\n",
       "      <td>YES</td>\n",
       "    </tr>\n",
       "    <tr>\n",
       "      <th>4</th>\n",
       "      <td>NO</td>\n",
       "      <td>Married</td>\n",
       "      <td>81002</td>\n",
       "      <td>27533</td>\n",
       "      <td>28</td>\n",
       "      <td>NO</td>\n",
       "    </tr>\n",
       "  </tbody>\n",
       "</table>\n",
       "</div>"
      ],
      "text/plain": [
       "  Undergrad Marital.Status  Taxable.Income  City.Population  Work.Experience  \\\n",
       "0        NO         Single           68833            50047               10   \n",
       "1       YES       Divorced           33700           134075               18   \n",
       "2        NO        Married           36925           160205               30   \n",
       "3       YES         Single           50190           193264               15   \n",
       "4        NO        Married           81002            27533               28   \n",
       "\n",
       "  Urban  \n",
       "0   YES  \n",
       "1   YES  \n",
       "2   YES  \n",
       "3   YES  \n",
       "4    NO  "
      ]
     },
     "execution_count": 3,
     "metadata": {},
     "output_type": "execute_result"
    }
   ],
   "source": [
    "data.head()"
   ]
  },
  {
   "cell_type": "code",
   "execution_count": 4,
   "metadata": {},
   "outputs": [
    {
     "data": {
      "text/html": [
       "<div>\n",
       "<style scoped>\n",
       "    .dataframe tbody tr th:only-of-type {\n",
       "        vertical-align: middle;\n",
       "    }\n",
       "\n",
       "    .dataframe tbody tr th {\n",
       "        vertical-align: top;\n",
       "    }\n",
       "\n",
       "    .dataframe thead th {\n",
       "        text-align: right;\n",
       "    }\n",
       "</style>\n",
       "<table border=\"1\" class=\"dataframe\">\n",
       "  <thead>\n",
       "    <tr style=\"text-align: right;\">\n",
       "      <th></th>\n",
       "      <th>Undergrad</th>\n",
       "      <th>MaritalStatus</th>\n",
       "      <th>TaxableIncome</th>\n",
       "      <th>CityPopulation</th>\n",
       "      <th>WorkExperience</th>\n",
       "      <th>Urban</th>\n",
       "    </tr>\n",
       "  </thead>\n",
       "  <tbody>\n",
       "    <tr>\n",
       "      <th>0</th>\n",
       "      <td>NO</td>\n",
       "      <td>Single</td>\n",
       "      <td>68833</td>\n",
       "      <td>50047</td>\n",
       "      <td>10</td>\n",
       "      <td>YES</td>\n",
       "    </tr>\n",
       "    <tr>\n",
       "      <th>1</th>\n",
       "      <td>YES</td>\n",
       "      <td>Divorced</td>\n",
       "      <td>33700</td>\n",
       "      <td>134075</td>\n",
       "      <td>18</td>\n",
       "      <td>YES</td>\n",
       "    </tr>\n",
       "    <tr>\n",
       "      <th>2</th>\n",
       "      <td>NO</td>\n",
       "      <td>Married</td>\n",
       "      <td>36925</td>\n",
       "      <td>160205</td>\n",
       "      <td>30</td>\n",
       "      <td>YES</td>\n",
       "    </tr>\n",
       "    <tr>\n",
       "      <th>3</th>\n",
       "      <td>YES</td>\n",
       "      <td>Single</td>\n",
       "      <td>50190</td>\n",
       "      <td>193264</td>\n",
       "      <td>15</td>\n",
       "      <td>YES</td>\n",
       "    </tr>\n",
       "    <tr>\n",
       "      <th>4</th>\n",
       "      <td>NO</td>\n",
       "      <td>Married</td>\n",
       "      <td>81002</td>\n",
       "      <td>27533</td>\n",
       "      <td>28</td>\n",
       "      <td>NO</td>\n",
       "    </tr>\n",
       "  </tbody>\n",
       "</table>\n",
       "</div>"
      ],
      "text/plain": [
       "  Undergrad MaritalStatus  TaxableIncome  CityPopulation  WorkExperience Urban\n",
       "0        NO        Single          68833           50047              10   YES\n",
       "1       YES      Divorced          33700          134075              18   YES\n",
       "2        NO       Married          36925          160205              30   YES\n",
       "3       YES        Single          50190          193264              15   YES\n",
       "4        NO       Married          81002           27533              28    NO"
      ]
     },
     "execution_count": 4,
     "metadata": {},
     "output_type": "execute_result"
    }
   ],
   "source": [
    "data = data.rename(columns = {'Marital.Status': 'MaritalStatus', 'Taxable.Income': 'TaxableIncome', 'City.Population': 'CityPopulation', 'Work.Experience': 'WorkExperience'}, inplace = False)\n",
    "data.head()"
   ]
  },
  {
   "cell_type": "code",
   "execution_count": 5,
   "metadata": {},
   "outputs": [
    {
     "data": {
      "text/html": [
       "<div>\n",
       "<style scoped>\n",
       "    .dataframe tbody tr th:only-of-type {\n",
       "        vertical-align: middle;\n",
       "    }\n",
       "\n",
       "    .dataframe tbody tr th {\n",
       "        vertical-align: top;\n",
       "    }\n",
       "\n",
       "    .dataframe thead th {\n",
       "        text-align: right;\n",
       "    }\n",
       "</style>\n",
       "<table border=\"1\" class=\"dataframe\">\n",
       "  <thead>\n",
       "    <tr style=\"text-align: right;\">\n",
       "      <th></th>\n",
       "      <th>TaxableIncome</th>\n",
       "      <th>CityPopulation</th>\n",
       "      <th>WorkExperience</th>\n",
       "      <th>Undergrad_YES</th>\n",
       "      <th>MaritalStatus_Married</th>\n",
       "      <th>MaritalStatus_Single</th>\n",
       "      <th>Urban_YES</th>\n",
       "    </tr>\n",
       "  </thead>\n",
       "  <tbody>\n",
       "    <tr>\n",
       "      <th>0</th>\n",
       "      <td>68833</td>\n",
       "      <td>50047</td>\n",
       "      <td>10</td>\n",
       "      <td>0</td>\n",
       "      <td>0</td>\n",
       "      <td>1</td>\n",
       "      <td>1</td>\n",
       "    </tr>\n",
       "    <tr>\n",
       "      <th>1</th>\n",
       "      <td>33700</td>\n",
       "      <td>134075</td>\n",
       "      <td>18</td>\n",
       "      <td>1</td>\n",
       "      <td>0</td>\n",
       "      <td>0</td>\n",
       "      <td>1</td>\n",
       "    </tr>\n",
       "    <tr>\n",
       "      <th>2</th>\n",
       "      <td>36925</td>\n",
       "      <td>160205</td>\n",
       "      <td>30</td>\n",
       "      <td>0</td>\n",
       "      <td>1</td>\n",
       "      <td>0</td>\n",
       "      <td>1</td>\n",
       "    </tr>\n",
       "    <tr>\n",
       "      <th>3</th>\n",
       "      <td>50190</td>\n",
       "      <td>193264</td>\n",
       "      <td>15</td>\n",
       "      <td>1</td>\n",
       "      <td>0</td>\n",
       "      <td>1</td>\n",
       "      <td>1</td>\n",
       "    </tr>\n",
       "    <tr>\n",
       "      <th>4</th>\n",
       "      <td>81002</td>\n",
       "      <td>27533</td>\n",
       "      <td>28</td>\n",
       "      <td>0</td>\n",
       "      <td>1</td>\n",
       "      <td>0</td>\n",
       "      <td>0</td>\n",
       "    </tr>\n",
       "    <tr>\n",
       "      <th>...</th>\n",
       "      <td>...</td>\n",
       "      <td>...</td>\n",
       "      <td>...</td>\n",
       "      <td>...</td>\n",
       "      <td>...</td>\n",
       "      <td>...</td>\n",
       "      <td>...</td>\n",
       "    </tr>\n",
       "    <tr>\n",
       "      <th>595</th>\n",
       "      <td>76340</td>\n",
       "      <td>39492</td>\n",
       "      <td>7</td>\n",
       "      <td>1</td>\n",
       "      <td>0</td>\n",
       "      <td>0</td>\n",
       "      <td>1</td>\n",
       "    </tr>\n",
       "    <tr>\n",
       "      <th>596</th>\n",
       "      <td>69967</td>\n",
       "      <td>55369</td>\n",
       "      <td>2</td>\n",
       "      <td>1</td>\n",
       "      <td>0</td>\n",
       "      <td>0</td>\n",
       "      <td>1</td>\n",
       "    </tr>\n",
       "    <tr>\n",
       "      <th>597</th>\n",
       "      <td>47334</td>\n",
       "      <td>154058</td>\n",
       "      <td>0</td>\n",
       "      <td>0</td>\n",
       "      <td>0</td>\n",
       "      <td>0</td>\n",
       "      <td>1</td>\n",
       "    </tr>\n",
       "    <tr>\n",
       "      <th>598</th>\n",
       "      <td>98592</td>\n",
       "      <td>180083</td>\n",
       "      <td>17</td>\n",
       "      <td>1</td>\n",
       "      <td>1</td>\n",
       "      <td>0</td>\n",
       "      <td>0</td>\n",
       "    </tr>\n",
       "    <tr>\n",
       "      <th>599</th>\n",
       "      <td>96519</td>\n",
       "      <td>158137</td>\n",
       "      <td>16</td>\n",
       "      <td>0</td>\n",
       "      <td>0</td>\n",
       "      <td>0</td>\n",
       "      <td>0</td>\n",
       "    </tr>\n",
       "  </tbody>\n",
       "</table>\n",
       "<p>600 rows × 7 columns</p>\n",
       "</div>"
      ],
      "text/plain": [
       "     TaxableIncome  CityPopulation  WorkExperience  Undergrad_YES  \\\n",
       "0            68833           50047              10              0   \n",
       "1            33700          134075              18              1   \n",
       "2            36925          160205              30              0   \n",
       "3            50190          193264              15              1   \n",
       "4            81002           27533              28              0   \n",
       "..             ...             ...             ...            ...   \n",
       "595          76340           39492               7              1   \n",
       "596          69967           55369               2              1   \n",
       "597          47334          154058               0              0   \n",
       "598          98592          180083              17              1   \n",
       "599          96519          158137              16              0   \n",
       "\n",
       "     MaritalStatus_Married  MaritalStatus_Single  Urban_YES  \n",
       "0                        0                     1          1  \n",
       "1                        0                     0          1  \n",
       "2                        1                     0          1  \n",
       "3                        0                     1          1  \n",
       "4                        1                     0          0  \n",
       "..                     ...                   ...        ...  \n",
       "595                      0                     0          1  \n",
       "596                      0                     0          1  \n",
       "597                      0                     0          1  \n",
       "598                      1                     0          0  \n",
       "599                      0                     0          0  \n",
       "\n",
       "[600 rows x 7 columns]"
      ]
     },
     "execution_count": 5,
     "metadata": {},
     "output_type": "execute_result"
    }
   ],
   "source": [
    "data=pd.get_dummies(data,columns=['Undergrad','MaritalStatus','Urban'], drop_first=True)\n",
    "data"
   ]
  },
  {
   "cell_type": "code",
   "execution_count": 6,
   "metadata": {},
   "outputs": [
    {
     "data": {
      "text/html": [
       "<div>\n",
       "<style scoped>\n",
       "    .dataframe tbody tr th:only-of-type {\n",
       "        vertical-align: middle;\n",
       "    }\n",
       "\n",
       "    .dataframe tbody tr th {\n",
       "        vertical-align: top;\n",
       "    }\n",
       "\n",
       "    .dataframe thead th {\n",
       "        text-align: right;\n",
       "    }\n",
       "</style>\n",
       "<table border=\"1\" class=\"dataframe\">\n",
       "  <thead>\n",
       "    <tr style=\"text-align: right;\">\n",
       "      <th></th>\n",
       "      <th>TaxableIncome</th>\n",
       "      <th>CityPopulation</th>\n",
       "      <th>WorkExperience</th>\n",
       "      <th>Undergrad_YES</th>\n",
       "      <th>MaritalStatus_Married</th>\n",
       "      <th>MaritalStatus_Single</th>\n",
       "      <th>Urban_YES</th>\n",
       "      <th>TaxInc</th>\n",
       "    </tr>\n",
       "  </thead>\n",
       "  <tbody>\n",
       "    <tr>\n",
       "      <th>0</th>\n",
       "      <td>68833</td>\n",
       "      <td>50047</td>\n",
       "      <td>10</td>\n",
       "      <td>0</td>\n",
       "      <td>0</td>\n",
       "      <td>1</td>\n",
       "      <td>1</td>\n",
       "      <td>Good</td>\n",
       "    </tr>\n",
       "    <tr>\n",
       "      <th>1</th>\n",
       "      <td>33700</td>\n",
       "      <td>134075</td>\n",
       "      <td>18</td>\n",
       "      <td>1</td>\n",
       "      <td>0</td>\n",
       "      <td>0</td>\n",
       "      <td>1</td>\n",
       "      <td>Good</td>\n",
       "    </tr>\n",
       "    <tr>\n",
       "      <th>2</th>\n",
       "      <td>36925</td>\n",
       "      <td>160205</td>\n",
       "      <td>30</td>\n",
       "      <td>0</td>\n",
       "      <td>1</td>\n",
       "      <td>0</td>\n",
       "      <td>1</td>\n",
       "      <td>Good</td>\n",
       "    </tr>\n",
       "    <tr>\n",
       "      <th>3</th>\n",
       "      <td>50190</td>\n",
       "      <td>193264</td>\n",
       "      <td>15</td>\n",
       "      <td>1</td>\n",
       "      <td>0</td>\n",
       "      <td>1</td>\n",
       "      <td>1</td>\n",
       "      <td>Good</td>\n",
       "    </tr>\n",
       "    <tr>\n",
       "      <th>4</th>\n",
       "      <td>81002</td>\n",
       "      <td>27533</td>\n",
       "      <td>28</td>\n",
       "      <td>0</td>\n",
       "      <td>1</td>\n",
       "      <td>0</td>\n",
       "      <td>0</td>\n",
       "      <td>Good</td>\n",
       "    </tr>\n",
       "    <tr>\n",
       "      <th>...</th>\n",
       "      <td>...</td>\n",
       "      <td>...</td>\n",
       "      <td>...</td>\n",
       "      <td>...</td>\n",
       "      <td>...</td>\n",
       "      <td>...</td>\n",
       "      <td>...</td>\n",
       "      <td>...</td>\n",
       "    </tr>\n",
       "    <tr>\n",
       "      <th>595</th>\n",
       "      <td>76340</td>\n",
       "      <td>39492</td>\n",
       "      <td>7</td>\n",
       "      <td>1</td>\n",
       "      <td>0</td>\n",
       "      <td>0</td>\n",
       "      <td>1</td>\n",
       "      <td>Good</td>\n",
       "    </tr>\n",
       "    <tr>\n",
       "      <th>596</th>\n",
       "      <td>69967</td>\n",
       "      <td>55369</td>\n",
       "      <td>2</td>\n",
       "      <td>1</td>\n",
       "      <td>0</td>\n",
       "      <td>0</td>\n",
       "      <td>1</td>\n",
       "      <td>Good</td>\n",
       "    </tr>\n",
       "    <tr>\n",
       "      <th>597</th>\n",
       "      <td>47334</td>\n",
       "      <td>154058</td>\n",
       "      <td>0</td>\n",
       "      <td>0</td>\n",
       "      <td>0</td>\n",
       "      <td>0</td>\n",
       "      <td>1</td>\n",
       "      <td>Good</td>\n",
       "    </tr>\n",
       "    <tr>\n",
       "      <th>598</th>\n",
       "      <td>98592</td>\n",
       "      <td>180083</td>\n",
       "      <td>17</td>\n",
       "      <td>1</td>\n",
       "      <td>1</td>\n",
       "      <td>0</td>\n",
       "      <td>0</td>\n",
       "      <td>Good</td>\n",
       "    </tr>\n",
       "    <tr>\n",
       "      <th>599</th>\n",
       "      <td>96519</td>\n",
       "      <td>158137</td>\n",
       "      <td>16</td>\n",
       "      <td>0</td>\n",
       "      <td>0</td>\n",
       "      <td>0</td>\n",
       "      <td>0</td>\n",
       "      <td>Good</td>\n",
       "    </tr>\n",
       "  </tbody>\n",
       "</table>\n",
       "<p>600 rows × 8 columns</p>\n",
       "</div>"
      ],
      "text/plain": [
       "     TaxableIncome  CityPopulation  WorkExperience  Undergrad_YES  \\\n",
       "0            68833           50047              10              0   \n",
       "1            33700          134075              18              1   \n",
       "2            36925          160205              30              0   \n",
       "3            50190          193264              15              1   \n",
       "4            81002           27533              28              0   \n",
       "..             ...             ...             ...            ...   \n",
       "595          76340           39492               7              1   \n",
       "596          69967           55369               2              1   \n",
       "597          47334          154058               0              0   \n",
       "598          98592          180083              17              1   \n",
       "599          96519          158137              16              0   \n",
       "\n",
       "     MaritalStatus_Married  MaritalStatus_Single  Urban_YES TaxInc  \n",
       "0                        0                     1          1   Good  \n",
       "1                        0                     0          1   Good  \n",
       "2                        1                     0          1   Good  \n",
       "3                        0                     1          1   Good  \n",
       "4                        1                     0          0   Good  \n",
       "..                     ...                   ...        ...    ...  \n",
       "595                      0                     0          1   Good  \n",
       "596                      0                     0          1   Good  \n",
       "597                      0                     0          1   Good  \n",
       "598                      1                     0          0   Good  \n",
       "599                      0                     0          0   Good  \n",
       "\n",
       "[600 rows x 8 columns]"
      ]
     },
     "execution_count": 6,
     "metadata": {},
     "output_type": "execute_result"
    }
   ],
   "source": [
    "data[\"TaxInc\"] = pd.cut(data[\"TaxableIncome\"], bins = [min(data.TaxableIncome),30000, max(data.TaxableIncome)], labels = [\"Risky\", \"Good\"])\n",
    "data"
   ]
  },
  {
   "cell_type": "code",
   "execution_count": 7,
   "metadata": {},
   "outputs": [
    {
     "name": "stdout",
     "output_type": "stream",
     "text": [
      "<class 'pandas.core.frame.DataFrame'>\n",
      "RangeIndex: 600 entries, 0 to 599\n",
      "Data columns (total 8 columns):\n",
      " #   Column                 Non-Null Count  Dtype   \n",
      "---  ------                 --------------  -----   \n",
      " 0   TaxableIncome          600 non-null    int64   \n",
      " 1   CityPopulation         600 non-null    int64   \n",
      " 2   WorkExperience         600 non-null    int64   \n",
      " 3   Undergrad_YES          600 non-null    uint8   \n",
      " 4   MaritalStatus_Married  600 non-null    uint8   \n",
      " 5   MaritalStatus_Single   600 non-null    uint8   \n",
      " 6   Urban_YES              600 non-null    uint8   \n",
      " 7   TaxInc                 599 non-null    category\n",
      "dtypes: category(1), int64(3), uint8(4)\n",
      "memory usage: 17.2 KB\n"
     ]
    }
   ],
   "source": [
    "data.info()"
   ]
  },
  {
   "cell_type": "code",
   "execution_count": 8,
   "metadata": {},
   "outputs": [],
   "source": [
    "x=data.iloc[:,0:7]\n",
    "y=data['TaxInc']"
   ]
  },
  {
   "cell_type": "code",
   "execution_count": 9,
   "metadata": {},
   "outputs": [
    {
     "data": {
      "text/html": [
       "<div>\n",
       "<style scoped>\n",
       "    .dataframe tbody tr th:only-of-type {\n",
       "        vertical-align: middle;\n",
       "    }\n",
       "\n",
       "    .dataframe tbody tr th {\n",
       "        vertical-align: top;\n",
       "    }\n",
       "\n",
       "    .dataframe thead th {\n",
       "        text-align: right;\n",
       "    }\n",
       "</style>\n",
       "<table border=\"1\" class=\"dataframe\">\n",
       "  <thead>\n",
       "    <tr style=\"text-align: right;\">\n",
       "      <th></th>\n",
       "      <th>TaxableIncome</th>\n",
       "      <th>CityPopulation</th>\n",
       "      <th>WorkExperience</th>\n",
       "      <th>Undergrad_YES</th>\n",
       "      <th>MaritalStatus_Married</th>\n",
       "      <th>MaritalStatus_Single</th>\n",
       "      <th>Urban_YES</th>\n",
       "    </tr>\n",
       "  </thead>\n",
       "  <tbody>\n",
       "    <tr>\n",
       "      <th>0</th>\n",
       "      <td>68833</td>\n",
       "      <td>50047</td>\n",
       "      <td>10</td>\n",
       "      <td>0</td>\n",
       "      <td>0</td>\n",
       "      <td>1</td>\n",
       "      <td>1</td>\n",
       "    </tr>\n",
       "    <tr>\n",
       "      <th>1</th>\n",
       "      <td>33700</td>\n",
       "      <td>134075</td>\n",
       "      <td>18</td>\n",
       "      <td>1</td>\n",
       "      <td>0</td>\n",
       "      <td>0</td>\n",
       "      <td>1</td>\n",
       "    </tr>\n",
       "    <tr>\n",
       "      <th>2</th>\n",
       "      <td>36925</td>\n",
       "      <td>160205</td>\n",
       "      <td>30</td>\n",
       "      <td>0</td>\n",
       "      <td>1</td>\n",
       "      <td>0</td>\n",
       "      <td>1</td>\n",
       "    </tr>\n",
       "    <tr>\n",
       "      <th>3</th>\n",
       "      <td>50190</td>\n",
       "      <td>193264</td>\n",
       "      <td>15</td>\n",
       "      <td>1</td>\n",
       "      <td>0</td>\n",
       "      <td>1</td>\n",
       "      <td>1</td>\n",
       "    </tr>\n",
       "    <tr>\n",
       "      <th>4</th>\n",
       "      <td>81002</td>\n",
       "      <td>27533</td>\n",
       "      <td>28</td>\n",
       "      <td>0</td>\n",
       "      <td>1</td>\n",
       "      <td>0</td>\n",
       "      <td>0</td>\n",
       "    </tr>\n",
       "    <tr>\n",
       "      <th>...</th>\n",
       "      <td>...</td>\n",
       "      <td>...</td>\n",
       "      <td>...</td>\n",
       "      <td>...</td>\n",
       "      <td>...</td>\n",
       "      <td>...</td>\n",
       "      <td>...</td>\n",
       "    </tr>\n",
       "    <tr>\n",
       "      <th>595</th>\n",
       "      <td>76340</td>\n",
       "      <td>39492</td>\n",
       "      <td>7</td>\n",
       "      <td>1</td>\n",
       "      <td>0</td>\n",
       "      <td>0</td>\n",
       "      <td>1</td>\n",
       "    </tr>\n",
       "    <tr>\n",
       "      <th>596</th>\n",
       "      <td>69967</td>\n",
       "      <td>55369</td>\n",
       "      <td>2</td>\n",
       "      <td>1</td>\n",
       "      <td>0</td>\n",
       "      <td>0</td>\n",
       "      <td>1</td>\n",
       "    </tr>\n",
       "    <tr>\n",
       "      <th>597</th>\n",
       "      <td>47334</td>\n",
       "      <td>154058</td>\n",
       "      <td>0</td>\n",
       "      <td>0</td>\n",
       "      <td>0</td>\n",
       "      <td>0</td>\n",
       "      <td>1</td>\n",
       "    </tr>\n",
       "    <tr>\n",
       "      <th>598</th>\n",
       "      <td>98592</td>\n",
       "      <td>180083</td>\n",
       "      <td>17</td>\n",
       "      <td>1</td>\n",
       "      <td>1</td>\n",
       "      <td>0</td>\n",
       "      <td>0</td>\n",
       "    </tr>\n",
       "    <tr>\n",
       "      <th>599</th>\n",
       "      <td>96519</td>\n",
       "      <td>158137</td>\n",
       "      <td>16</td>\n",
       "      <td>0</td>\n",
       "      <td>0</td>\n",
       "      <td>0</td>\n",
       "      <td>0</td>\n",
       "    </tr>\n",
       "  </tbody>\n",
       "</table>\n",
       "<p>600 rows × 7 columns</p>\n",
       "</div>"
      ],
      "text/plain": [
       "     TaxableIncome  CityPopulation  WorkExperience  Undergrad_YES  \\\n",
       "0            68833           50047              10              0   \n",
       "1            33700          134075              18              1   \n",
       "2            36925          160205              30              0   \n",
       "3            50190          193264              15              1   \n",
       "4            81002           27533              28              0   \n",
       "..             ...             ...             ...            ...   \n",
       "595          76340           39492               7              1   \n",
       "596          69967           55369               2              1   \n",
       "597          47334          154058               0              0   \n",
       "598          98592          180083              17              1   \n",
       "599          96519          158137              16              0   \n",
       "\n",
       "     MaritalStatus_Married  MaritalStatus_Single  Urban_YES  \n",
       "0                        0                     1          1  \n",
       "1                        0                     0          1  \n",
       "2                        1                     0          1  \n",
       "3                        0                     1          1  \n",
       "4                        1                     0          0  \n",
       "..                     ...                   ...        ...  \n",
       "595                      0                     0          1  \n",
       "596                      0                     0          1  \n",
       "597                      0                     0          1  \n",
       "598                      1                     0          0  \n",
       "599                      0                     0          0  \n",
       "\n",
       "[600 rows x 7 columns]"
      ]
     },
     "execution_count": 9,
     "metadata": {},
     "output_type": "execute_result"
    }
   ],
   "source": [
    "x"
   ]
  },
  {
   "cell_type": "code",
   "execution_count": 10,
   "metadata": {},
   "outputs": [
    {
     "data": {
      "text/plain": [
       "0      Good\n",
       "1      Good\n",
       "2      Good\n",
       "3      Good\n",
       "4      Good\n",
       "       ... \n",
       "595    Good\n",
       "596    Good\n",
       "597    Good\n",
       "598    Good\n",
       "599    Good\n",
       "Name: TaxInc, Length: 600, dtype: category\n",
       "Categories (2, object): ['Risky' < 'Good']"
      ]
     },
     "execution_count": 10,
     "metadata": {},
     "output_type": "execute_result"
    }
   ],
   "source": [
    "y"
   ]
  },
  {
   "cell_type": "code",
   "execution_count": 11,
   "metadata": {},
   "outputs": [
    {
     "data": {
      "text/plain": [
       "['Good', 'Risky', NaN]\n",
       "Categories (2, object): ['Risky' < 'Good']"
      ]
     },
     "execution_count": 11,
     "metadata": {},
     "output_type": "execute_result"
    }
   ],
   "source": [
    "data['TaxInc'].unique()"
   ]
  },
  {
   "cell_type": "code",
   "execution_count": 12,
   "metadata": {},
   "outputs": [
    {
     "data": {
      "text/plain": [
       "Good     476\n",
       "Risky    123\n",
       "Name: TaxInc, dtype: int64"
      ]
     },
     "execution_count": 12,
     "metadata": {},
     "output_type": "execute_result"
    }
   ],
   "source": [
    "data.TaxInc.value_counts()"
   ]
  },
  {
   "cell_type": "code",
   "execution_count": 13,
   "metadata": {},
   "outputs": [],
   "source": [
    "# Splitting data into training and testing data set\n",
    "x_train, x_test,y_train,y_test = train_test_split(x,y, test_size=0.2,random_state=40)"
   ]
  },
  {
   "cell_type": "markdown",
   "metadata": {},
   "source": [
    "### Building Decision Tree Classifier using Entropy Criteria"
   ]
  },
  {
   "cell_type": "code",
   "execution_count": 14,
   "metadata": {},
   "outputs": [
    {
     "data": {
      "text/plain": [
       "DecisionTreeClassifier(criterion='entropy', max_depth=3)"
      ]
     },
     "execution_count": 14,
     "metadata": {},
     "output_type": "execute_result"
    }
   ],
   "source": [
    "model = DecisionTreeClassifier(criterion = 'entropy',max_depth=3)\n",
    "model.fit(x_train,y_train)"
   ]
  },
  {
   "cell_type": "code",
   "execution_count": 15,
   "metadata": {},
   "outputs": [
    {
     "data": {
      "image/png": "[encoded data removed]",
      "text/plain": [
       "<Figure size 432x288 with 1 Axes>"
      ]
     },
     "metadata": {
      "needs_background": "light"
     },
     "output_type": "display_data"
    }
   ],
   "source": [
    "#PLot the decision tree\n",
    "tree.plot_tree(model);\n"
   ]
  },
  {
   "cell_type": "code",
   "execution_count": 16,
   "metadata": {},
   "outputs": [
    {
     "data": {
      "text/plain": [
       "Good     92\n",
       "Risky    28\n",
       "dtype: int64"
      ]
     },
     "execution_count": 16,
     "metadata": {},
     "output_type": "execute_result"
    }
   ],
   "source": [
    "#Predicting on test data\n",
    "preds = model.predict(x_test) # predicting on test data set \n",
    "pd.Series(preds).value_counts() # getting the count of each category "
   ]
  },
  {
   "cell_type": "code",
   "execution_count": 17,
   "metadata": {},
   "outputs": [
    {
     "data": {
      "text/plain": [
       "array(['Good', 'Good', 'Good', 'Good', 'Risky', 'Risky', 'Good', 'Risky',\n",
       "       'Risky', 'Good', 'Good', 'Risky', 'Risky', 'Good', 'Risky',\n",
       "       'Risky', 'Good', 'Good', 'Good', 'Good', 'Good', 'Risky', 'Good',\n",
       "       'Good', 'Good', 'Good', 'Good', 'Good', 'Good', 'Good', 'Good',\n",
       "       'Good', 'Good', 'Good', 'Good', 'Good', 'Good', 'Good', 'Good',\n",
       "       'Good', 'Good', 'Risky', 'Good', 'Good', 'Good', 'Good', 'Good',\n",
       "       'Good', 'Risky', 'Good', 'Good', 'Good', 'Good', 'Good', 'Good',\n",
       "       'Good', 'Good', 'Good', 'Good', 'Good', 'Good', 'Good', 'Risky',\n",
       "       'Risky', 'Good', 'Good', 'Good', 'Good', 'Good', 'Good', 'Good',\n",
       "       'Risky', 'Good', 'Risky', 'Good', 'Good', 'Good', 'Good', 'Risky',\n",
       "       'Good', 'Good', 'Good', 'Risky', 'Risky', 'Risky', 'Good', 'Good',\n",
       "       'Good', 'Good', 'Risky', 'Risky', 'Good', 'Good', 'Good', 'Risky',\n",
       "       'Risky', 'Good', 'Good', 'Good', 'Risky', 'Good', 'Good', 'Risky',\n",
       "       'Good', 'Good', 'Good', 'Good', 'Good', 'Risky', 'Risky', 'Good',\n",
       "       'Good', 'Risky', 'Good', 'Good', 'Good', 'Good', 'Good', 'Good',\n",
       "       'Good'], dtype=object)"
      ]
     },
     "execution_count": 17,
     "metadata": {},
     "output_type": "execute_result"
    }
   ],
   "source": [
    "preds"
   ]
  },
  {
   "cell_type": "code",
   "execution_count": 18,
   "metadata": {},
   "outputs": [
    {
     "data": {
      "text/html": [
       "<div>\n",
       "<style scoped>\n",
       "    .dataframe tbody tr th:only-of-type {\n",
       "        vertical-align: middle;\n",
       "    }\n",
       "\n",
       "    .dataframe tbody tr th {\n",
       "        vertical-align: top;\n",
       "    }\n",
       "\n",
       "    .dataframe thead th {\n",
       "        text-align: right;\n",
       "    }\n",
       "</style>\n",
       "<table border=\"1\" class=\"dataframe\">\n",
       "  <thead>\n",
       "    <tr style=\"text-align: right;\">\n",
       "      <th>col_0</th>\n",
       "      <th>Good</th>\n",
       "      <th>Risky</th>\n",
       "    </tr>\n",
       "    <tr>\n",
       "      <th>TaxInc</th>\n",
       "      <th></th>\n",
       "      <th></th>\n",
       "    </tr>\n",
       "  </thead>\n",
       "  <tbody>\n",
       "    <tr>\n",
       "      <th>Risky</th>\n",
       "      <td>0</td>\n",
       "      <td>27</td>\n",
       "    </tr>\n",
       "    <tr>\n",
       "      <th>Good</th>\n",
       "      <td>92</td>\n",
       "      <td>0</td>\n",
       "    </tr>\n",
       "  </tbody>\n",
       "</table>\n",
       "</div>"
      ],
      "text/plain": [
       "col_0   Good  Risky\n",
       "TaxInc             \n",
       "Risky      0     27\n",
       "Good      92      0"
      ]
     },
     "execution_count": 18,
     "metadata": {},
     "output_type": "execute_result"
    }
   ],
   "source": [
    "pd.crosstab(y_test,preds) # getting the 2 way table to understand the correct and wrong predictions"
   ]
  },
  {
   "cell_type": "code",
   "execution_count": 19,
   "metadata": {},
   "outputs": [
    {
     "data": {
      "text/plain": [
       "0.9916666666666667"
      ]
     },
     "execution_count": 19,
     "metadata": {},
     "output_type": "execute_result"
    }
   ],
   "source": [
    "# Accuracy \n",
    "np.mean(preds==y_test)"
   ]
  },
  {
   "cell_type": "code",
   "execution_count": 20,
   "metadata": {},
   "outputs": [
    {
     "data": {
      "text/plain": [
       "159     Good\n",
       "307     Good\n",
       "253     Good\n",
       "528     Good\n",
       "137    Risky\n",
       "       ...  \n",
       "102     Good\n",
       "577     Good\n",
       "18      Good\n",
       "560     Good\n",
       "62      Good\n",
       "Name: TaxInc, Length: 120, dtype: object"
      ]
     },
     "execution_count": 20,
     "metadata": {},
     "output_type": "execute_result"
    }
   ],
   "source": [
    "y_test = y_test.astype(str)\n",
    "y_test"
   ]
  },
  {
   "cell_type": "code",
   "execution_count": 21,
   "metadata": {},
   "outputs": [
    {
     "name": "stdout",
     "output_type": "stream",
     "text": [
      "              precision    recall  f1-score   support\n",
      "\n",
      "        Good       1.00      1.00      1.00        92\n",
      "       Risky       0.96      1.00      0.98        27\n",
      "         nan       0.00      0.00      0.00         1\n",
      "\n",
      "    accuracy                           0.99       120\n",
      "   macro avg       0.65      0.67      0.66       120\n",
      "weighted avg       0.98      0.99      0.99       120\n",
      "\n"
     ]
    },
    {
     "name": "stderr",
     "output_type": "stream",
     "text": [
      "C:\\ProgramData\\Anaconda3\\lib\\site-packages\\sklearn\\metrics\\_classification.py:1221: UndefinedMetricWarning: Precision and F-score are ill-defined and being set to 0.0 in labels with no predicted samples. Use `zero_division` parameter to control this behavior.\n",
      "  _warn_prf(average, modifier, msg_start, len(result))\n"
     ]
    }
   ],
   "source": [
    "print(classification_report(y_test,preds))"
   ]
  },
  {
   "cell_type": "markdown",
   "metadata": {},
   "source": [
    "### Building Decision Tree Classifier (CART) using Gini Criteria"
   ]
  },
  {
   "cell_type": "code",
   "execution_count": 22,
   "metadata": {},
   "outputs": [],
   "source": [
    "from sklearn.tree import DecisionTreeClassifier\n",
    "model_gini = DecisionTreeClassifier(criterion='gini', max_depth=3)"
   ]
  },
  {
   "cell_type": "code",
   "execution_count": 23,
   "metadata": {},
   "outputs": [
    {
     "data": {
      "text/plain": [
       "DecisionTreeClassifier(max_depth=3)"
      ]
     },
     "execution_count": 23,
     "metadata": {},
     "output_type": "execute_result"
    }
   ],
   "source": [
    "model_gini.fit(x_train, y_train)"
   ]
  },
  {
   "cell_type": "code",
   "execution_count": 24,
   "metadata": {},
   "outputs": [
    {
     "data": {
      "text/plain": [
       "0.9916666666666667"
      ]
     },
     "execution_count": 24,
     "metadata": {},
     "output_type": "execute_result"
    }
   ],
   "source": [
    "#Prediction and computing the accuracy\n",
    "pred=model.predict(x_test)\n",
    "np.mean(preds==y_test)"
   ]
  },
  {
   "cell_type": "markdown",
   "metadata": {},
   "source": [
    "#### Decision Tree Regression Example"
   ]
  },
  {
   "cell_type": "code",
   "execution_count": 25,
   "metadata": {},
   "outputs": [],
   "source": [
    "# Decision Tree Regression\n",
    "from sklearn.tree import DecisionTreeRegressor"
   ]
  },
  {
   "cell_type": "code",
   "execution_count": 26,
   "metadata": {},
   "outputs": [],
   "source": [
    "array = data.values\n",
    "X = array[:,0:7]\n",
    "y = array[:,7]"
   ]
  },
  {
   "cell_type": "code",
   "execution_count": 27,
   "metadata": {},
   "outputs": [],
   "source": [
    "X_train, X_test, y_train, y_test = train_test_split(X, y, test_size=0.33, random_state=1)"
   ]
  },
  {
   "cell_type": "code",
   "execution_count": 28,
   "metadata": {},
   "outputs": [
    {
     "data": {
      "text/plain": [
       "array(['Risky', 'Good', 'Risky', 'Good', 'Good', 'Good', 'Good', 'Good',\n",
       "       'Good', 'Good', 'Good', 'Risky', 'Good', 'Good', 'Risky', 'Good',\n",
       "       'Good', 'Good', 'Good', 'Good', 'Good', 'Good', 'Good', 'Good',\n",
       "       'Good', 'Risky', 'Good', 'Good', 'Good', 'Good', 'Good', 'Good',\n",
       "       'Good', 'Good', 'Good', 'Good', 'Good', 'Good', 'Good', 'Good',\n",
       "       'Good', 'Risky', 'Good', 'Good', 'Good', 'Risky', 'Good', 'Risky',\n",
       "       'Good', 'Good', 'Risky', 'Good', 'Good', 'Good', 'Good', 'Good',\n",
       "       'Good', 'Risky', 'Good', 'Good', 'Good', 'Good', 'Good', 'nan',\n",
       "       'Good', 'Good', 'Good', 'Good', 'Good', 'Good', 'Good', 'Good',\n",
       "       'Good', 'Risky', 'Risky', 'Good', 'Good', 'Risky', 'Good', 'Good',\n",
       "       'Risky', 'Good', 'Good', 'Risky', 'Risky', 'Good', 'Good', 'Good',\n",
       "       'Risky', 'Risky', 'Good', 'Risky', 'Good', 'Good', 'Good', 'Risky',\n",
       "       'Good', 'Good', 'Good', 'Risky', 'Good', 'Good', 'Good', 'Good',\n",
       "       'Good', 'Good', 'Good', 'Good', 'Good', 'Good', 'Good', 'Good',\n",
       "       'Good', 'Good', 'Good', 'Good', 'Good', 'Good', 'Risky', 'Good',\n",
       "       'Good', 'Good', 'Risky', 'Risky', 'Risky', 'Good', 'Good', 'Good',\n",
       "       'Risky', 'Good', 'Risky', 'Good', 'Risky', 'Good', 'Good', 'Good',\n",
       "       'Good', 'Good', 'Good', 'Good', 'Good', 'Good', 'Good', 'Good',\n",
       "       'Risky', 'Good', 'Good', 'Good', 'Risky', 'Good', 'Good', 'Risky',\n",
       "       'Good', 'Good', 'Good', 'Risky', 'Risky', 'Risky', 'Risky', 'Good',\n",
       "       'Good', 'Good', 'Good', 'Good', 'Good', 'Good', 'Good', 'Good',\n",
       "       'Good', 'Good', 'Good', 'Good', 'Good', 'Good', 'Good', 'Good',\n",
       "       'Good', 'Good', 'Good', 'Good', 'Risky', 'Good', 'Good', 'Risky',\n",
       "       'Good', 'Good', 'Good', 'Risky', 'Good', 'Good', 'Good', 'Risky',\n",
       "       'Good', 'Good', 'Good', 'Good', 'Good', 'Good'], dtype='<U5')"
      ]
     },
     "execution_count": 28,
     "metadata": {},
     "output_type": "execute_result"
    }
   ],
   "source": [
    "y_test = y_test.astype(str)"
   ]
  },
  {
   "cell_type": "code",
   "execution_count": 29,
   "metadata": {},
   "outputs": [],
   "source": [
    "label_encoder = preprocessing.LabelEncoder()\n",
    "y_test= label_encoder.fit_transform(y_test) "
   ]
  },
  {
   "cell_type": "code",
   "execution_count": 30,
   "metadata": {},
   "outputs": [],
   "source": [
    "label_encoder = preprocessing.LabelEncoder()\n",
    "y_train= label_encoder.fit_transform(y_train) "
   ]
  },
  {
   "cell_type": "code",
   "execution_count": 31,
   "metadata": {},
   "outputs": [
    {
     "data": {
      "text/plain": [
       "DecisionTreeRegressor()"
      ]
     },
     "execution_count": 31,
     "metadata": {},
     "output_type": "execute_result"
    }
   ],
   "source": [
    "model = DecisionTreeRegressor()\n",
    "model.fit(X_train, y_train)"
   ]
  },
  {
   "cell_type": "code",
   "execution_count": 32,
   "metadata": {},
   "outputs": [
    {
     "data": {
      "text/plain": [
       "0.9710229767305723"
      ]
     },
     "execution_count": 32,
     "metadata": {},
     "output_type": "execute_result"
    }
   ],
   "source": [
    "#Find the accuracy\n",
    "model.score(X_test,y_test)"
   ]
  }
 ],
 "metadata": {
  "kernelspec": {
   "display_name": "Python 3",
   "language": "python",
   "name": "python3"
  },
  "language_info": {
   "codemirror_mode": {
    "name": "ipython",
    "version": 3
   },
   "file_extension": ".py",
   "mimetype": "text/x-python",
   "name": "python",
   "nbconvert_exporter": "python",
   "pygments_lexer": "ipython3",
   "version": "3.8.8"
  }
 },
 "nbformat": 4,
 "nbformat_minor": 2
}
